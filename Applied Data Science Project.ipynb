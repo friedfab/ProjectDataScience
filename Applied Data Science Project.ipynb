{
 "cells": [
  {
   "cell_type": "markdown",
   "id": "7e42247e",
   "metadata": {},
   "source": [
    "## Applied Data Science Project"
   ]
  },
  {
   "cell_type": "markdown",
   "id": "ecfe45e4",
   "metadata": {},
   "source": [
    "Hugo Bossi, Fabian Frieden, Domenic Largiadèr"
   ]
  },
  {
   "cell_type": "code",
   "execution_count": 34,
   "id": "0eba0a17",
   "metadata": {},
   "outputs": [],
   "source": [
    "from sklearn.linear_model import LogisticRegression\n",
    "#from sklearn.preprocessing import StandardScaler\n",
    "from sklearn.model_selection import train_test_split\n",
    "import numpy as np\n",
    "#import pandas as pd\n",
    "import matplotlib.pyplot as plt\n",
    "np.set_printoptions(suppress=True)\n"
   ]
  },
  {
   "cell_type": "code",
   "execution_count": 49,
   "id": "c8bbf1d6",
   "metadata": {},
   "outputs": [
    {
     "data": {
      "text/html": [
       "<div>\n",
       "<style scoped>\n",
       "    .dataframe tbody tr th:only-of-type {\n",
       "        vertical-align: middle;\n",
       "    }\n",
       "\n",
       "    .dataframe tbody tr th {\n",
       "        vertical-align: top;\n",
       "    }\n",
       "\n",
       "    .dataframe thead th {\n",
       "        text-align: right;\n",
       "    }\n",
       "</style>\n",
       "<table border=\"1\" class=\"dataframe\">\n",
       "  <thead>\n",
       "    <tr style=\"text-align: right;\">\n",
       "      <th></th>\n",
       "      <th>ORtg/A</th>\n",
       "      <th>DRtg/A</th>\n",
       "      <th>playoffs</th>\n",
       "    </tr>\n",
       "    <tr>\n",
       "      <th>Nr.</th>\n",
       "      <th></th>\n",
       "      <th></th>\n",
       "      <th></th>\n",
       "    </tr>\n",
       "  </thead>\n",
       "  <tbody>\n",
       "    <tr>\n",
       "      <th>1</th>\n",
       "      <td>117.42</td>\n",
       "      <td>115.84</td>\n",
       "      <td>0</td>\n",
       "    </tr>\n",
       "    <tr>\n",
       "      <th>2</th>\n",
       "      <td>116.33</td>\n",
       "      <td>114.14</td>\n",
       "      <td>0</td>\n",
       "    </tr>\n",
       "    <tr>\n",
       "      <th>3</th>\n",
       "      <td>108.18</td>\n",
       "      <td>115.56</td>\n",
       "      <td>0</td>\n",
       "    </tr>\n",
       "    <tr>\n",
       "      <th>4</th>\n",
       "      <td>108.83</td>\n",
       "      <td>114.59</td>\n",
       "      <td>0</td>\n",
       "    </tr>\n",
       "    <tr>\n",
       "      <th>5</th>\n",
       "      <td>105.81</td>\n",
       "      <td>111.12</td>\n",
       "      <td>0</td>\n",
       "    </tr>\n",
       "    <tr>\n",
       "      <th>...</th>\n",
       "      <td>...</td>\n",
       "      <td>...</td>\n",
       "      <td>...</td>\n",
       "    </tr>\n",
       "    <tr>\n",
       "      <th>356</th>\n",
       "      <td>107.03</td>\n",
       "      <td>110.54</td>\n",
       "      <td>0</td>\n",
       "    </tr>\n",
       "    <tr>\n",
       "      <th>357</th>\n",
       "      <td>101.68</td>\n",
       "      <td>105.11</td>\n",
       "      <td>0</td>\n",
       "    </tr>\n",
       "    <tr>\n",
       "      <th>358</th>\n",
       "      <td>107.18</td>\n",
       "      <td>105.70</td>\n",
       "      <td>1</td>\n",
       "    </tr>\n",
       "    <tr>\n",
       "      <th>359</th>\n",
       "      <td>103.99</td>\n",
       "      <td>111.17</td>\n",
       "      <td>0</td>\n",
       "    </tr>\n",
       "    <tr>\n",
       "      <th>360</th>\n",
       "      <td>104.11</td>\n",
       "      <td>111.10</td>\n",
       "      <td>0</td>\n",
       "    </tr>\n",
       "  </tbody>\n",
       "</table>\n",
       "<p>360 rows × 3 columns</p>\n",
       "</div>"
      ],
      "text/plain": [
       "     ORtg/A  DRtg/A  playoffs\n",
       "Nr.                          \n",
       "1    117.42  115.84         0\n",
       "2    116.33  114.14         0\n",
       "3    108.18  115.56         0\n",
       "4    108.83  114.59         0\n",
       "5    105.81  111.12         0\n",
       "..      ...     ...       ...\n",
       "356  107.03  110.54         0\n",
       "357  101.68  105.11         0\n",
       "358  107.18  105.70         1\n",
       "359  103.99  111.17         0\n",
       "360  104.11  111.10         0\n",
       "\n",
       "[360 rows x 3 columns]"
      ]
     },
     "execution_count": 49,
     "metadata": {},
     "output_type": "execute_result"
    }
   ],
   "source": [
    "#select needed colums for model\n",
    "# ORtg/A = Adjusted Offensive Rating = Points scored per 100 Possesion\n",
    "# DRtg/A = Adjusted Defensive Rating = Points allowed per 100 Possesion\n",
    "\n",
    "df_NBA = final_df[['ORtg/A','DRtg/A','playoffs']]\n",
    "      \n",
    "df_NBA    "
   ]
  },
  {
   "cell_type": "code",
   "execution_count": 55,
   "id": "69969c03",
   "metadata": {},
   "outputs": [],
   "source": [
    "#define target value and split test data\n",
    "\n",
    "X = df_NBA.drop(['playoffs'],axis=1).values\n",
    "y = df_NBA['playoffs'].values\n",
    "\n",
    "X_train, X_test, y_train, y_test = train_test_split(\n",
    "    X, y, test_size=0.20, random_state = 99)"
   ]
  },
  {
   "cell_type": "code",
   "execution_count": null,
   "id": "100834b4",
   "metadata": {},
   "outputs": [],
   "source": []
  },
  {
   "cell_type": "code",
   "execution_count": 56,
   "id": "de0c146a",
   "metadata": {},
   "outputs": [],
   "source": [
    "log_reg = LogisticRegression()"
   ]
  },
  {
   "cell_type": "code",
   "execution_count": 57,
   "id": "c4b8f9e2",
   "metadata": {},
   "outputs": [
    {
     "data": {
      "text/plain": [
       "LogisticRegression()"
      ]
     },
     "execution_count": 57,
     "metadata": {},
     "output_type": "execute_result"
    }
   ],
   "source": [
    "log_reg.fit(X_train, y_train)"
   ]
  },
  {
   "cell_type": "code",
   "execution_count": 58,
   "id": "8fb652b1",
   "metadata": {},
   "outputs": [
    {
     "name": "stdout",
     "output_type": "stream",
     "text": [
      "[[ 0.3626831  -0.68604809]]\n",
      "[34.87533144]\n"
     ]
    }
   ],
   "source": [
    "print(log_reg.coef_)\n",
    "print(log_reg.intercept_)"
   ]
  },
  {
   "cell_type": "code",
   "execution_count": 60,
   "id": "17c0a0b2",
   "metadata": {},
   "outputs": [
    {
     "name": "stdout",
     "output_type": "stream",
     "text": [
      "The accuracy of your model is 88.0%\n"
     ]
    }
   ],
   "source": [
    "mean_accuracy = log_reg.score(X_test, y_test) #ADD YOU CODE HERE####\n",
    "print(\"The accuracy of your model is {0}%\".format(np.round(mean_accuracy*100),2))"
   ]
  },
  {
   "cell_type": "code",
   "execution_count": 61,
   "id": "7240a414",
   "metadata": {},
   "outputs": [
    {
     "data": {
      "image/png": "[encoded data removed]",
      "text/plain": [
       "<Figure size 432x288 with 2 Axes>"
      ]
     },
     "metadata": {
      "needs_background": "light"
     },
     "output_type": "display_data"
    }
   ],
   "source": [
    "from sklearn.metrics import confusion_matrix, ConfusionMatrixDisplay# for this plot sklearn >= 1.0.1 is needed\n",
    "\n",
    "cm = confusion_matrix(y_test, y_pred, labels=log_reg.classes_)\n",
    "disp = ConfusionMatrixDisplay(confusion_matrix=cm,display_labels=log_reg.classes_)\n",
    "disp.plot()\n",
    "plt.show()"
   ]
  }
 ],
 "metadata": {
  "kernelspec": {
   "display_name": "Python 3",
   "language": "python",
   "name": "python3"
  },
  "language_info": {
   "codemirror_mode": {
    "name": "ipython",
    "version": 3
   },
   "file_extension": ".py",
   "mimetype": "text/x-python",
   "name": "python",
   "nbconvert_exporter": "python",
   "pygments_lexer": "ipython3",
   "version": "3.8.8"
  }
 },
 "nbformat": 4,
 "nbformat_minor": 5
}
